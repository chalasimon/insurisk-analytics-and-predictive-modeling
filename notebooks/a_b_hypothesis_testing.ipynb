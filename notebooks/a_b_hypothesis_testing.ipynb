{
 "cells": [
  {
   "cell_type": "markdown",
   "id": "8551e21b",
   "metadata": {},
   "source": [
    "# A/B Hypothesis Testing\n",
    "**Objective**: Statistically validate or reject key hypotheses about risk drivers, which will form the basis of our new segmentation strategy."
   ]
  },
  {
   "cell_type": "code",
   "execution_count": 1,
   "id": "3b4172e9",
   "metadata": {},
   "outputs": [],
   "source": [
    "import sys\n",
    "import os\n",
    "import pandas as pd\n",
    "from glob import glob"
   ]
  },
  {
   "cell_type": "code",
   "execution_count": 2,
   "id": "4da9d470",
   "metadata": {},
   "outputs": [],
   "source": [
    "from pathlib import Path\n",
    "from importlib import reload\n",
    "# add the project root to the path\n",
    "project_root = Path(\"..\").resolve()\n",
    "if str(project_root) not in sys.path:\n",
    "    sys.path.insert(0, str(project_root))"
   ]
  },
  {
   "cell_type": "code",
   "execution_count": 3,
   "id": "e07a722a",
   "metadata": {},
   "outputs": [
    {
     "data": {
      "text/plain": [
       "<module 'src.data_loader' from 'D:\\\\Research & Project\\\\10academy\\\\week 3\\\\challenge\\\\insurisk-analytics-and-predictive-modeling\\\\src\\\\data_loader.py'>"
      ]
     },
     "execution_count": 3,
     "metadata": {},
     "output_type": "execute_result"
    }
   ],
   "source": [
    "# In this task, we will prepare and clean the dataset for further analysis.\n",
    "# First, we will load the module for data loading \n",
    "from src.data_loader import DataLoader\n",
    "import src.data_loader\n",
    "reload(src.data_loader)"
   ]
  },
  {
   "cell_type": "code",
   "execution_count": 4,
   "id": "0c2a831d",
   "metadata": {},
   "outputs": [
    {
     "name": "stderr",
     "output_type": "stream",
     "text": [
      "D:\\Research & Project\\10academy\\week 3\\challenge\\insurisk-analytics-and-predictive-modeling\\src\\data_loader.py:17: DtypeWarning: Columns (32,37) have mixed types. Specify dtype option on import or set low_memory=False.\n",
      "  self.data = pd.read_csv(file_path, sep=\"|\")\n"
     ]
    },
    {
     "data": {
      "application/vnd.microsoft.datawrangler.viewer.v0+json": {
       "columns": [
        {
         "name": "index",
         "rawType": "int64",
         "type": "integer"
        },
        {
         "name": "UnderwrittenCoverID",
         "rawType": "int64",
         "type": "integer"
        },
        {
         "name": "PolicyID",
         "rawType": "int64",
         "type": "integer"
        },
        {
         "name": "TransactionMonth",
         "rawType": "datetime64[ns]",
         "type": "datetime"
        },
        {
         "name": "IsVATRegistered",
         "rawType": "bool",
         "type": "boolean"
        },
        {
         "name": "Citizenship",
         "rawType": "object",
         "type": "string"
        },
        {
         "name": "LegalType",
         "rawType": "object",
         "type": "string"
        },
        {
         "name": "Title",
         "rawType": "object",
         "type": "string"
        },
        {
         "name": "Language",
         "rawType": "object",
         "type": "string"
        },
        {
         "name": "Bank",
         "rawType": "object",
         "type": "string"
        },
        {
         "name": "AccountType",
         "rawType": "object",
         "type": "string"
        },
        {
         "name": "MaritalStatus",
         "rawType": "object",
         "type": "string"
        },
        {
         "name": "Gender",
         "rawType": "object",
         "type": "string"
        },
        {
         "name": "Country",
         "rawType": "object",
         "type": "string"
        },
        {
         "name": "Province",
         "rawType": "object",
         "type": "string"
        },
        {
         "name": "PostalCode",
         "rawType": "int64",
         "type": "integer"
        },
        {
         "name": "MainCrestaZone",
         "rawType": "object",
         "type": "string"
        },
        {
         "name": "SubCrestaZone",
         "rawType": "object",
         "type": "string"
        },
        {
         "name": "ItemType",
         "rawType": "object",
         "type": "string"
        },
        {
         "name": "mmcode",
         "rawType": "float64",
         "type": "float"
        },
        {
         "name": "VehicleType",
         "rawType": "object",
         "type": "string"
        },
        {
         "name": "RegistrationYear",
         "rawType": "int64",
         "type": "integer"
        },
        {
         "name": "make",
         "rawType": "object",
         "type": "string"
        },
        {
         "name": "Model",
         "rawType": "object",
         "type": "string"
        },
        {
         "name": "Cylinders",
         "rawType": "float64",
         "type": "float"
        },
        {
         "name": "cubiccapacity",
         "rawType": "float64",
         "type": "float"
        },
        {
         "name": "kilowatts",
         "rawType": "float64",
         "type": "float"
        },
        {
         "name": "bodytype",
         "rawType": "object",
         "type": "string"
        },
        {
         "name": "NumberOfDoors",
         "rawType": "float64",
         "type": "float"
        },
        {
         "name": "VehicleIntroDate",
         "rawType": "object",
         "type": "string"
        },
        {
         "name": "CustomValueEstimate",
         "rawType": "float64",
         "type": "float"
        },
        {
         "name": "AlarmImmobiliser",
         "rawType": "object",
         "type": "string"
        },
        {
         "name": "TrackingDevice",
         "rawType": "object",
         "type": "string"
        },
        {
         "name": "CapitalOutstanding",
         "rawType": "object",
         "type": "unknown"
        },
        {
         "name": "NewVehicle",
         "rawType": "object",
         "type": "string"
        },
        {
         "name": "WrittenOff",
         "rawType": "object",
         "type": "unknown"
        },
        {
         "name": "Rebuilt",
         "rawType": "object",
         "type": "unknown"
        },
        {
         "name": "Converted",
         "rawType": "object",
         "type": "unknown"
        },
        {
         "name": "CrossBorder",
         "rawType": "object",
         "type": "unknown"
        },
        {
         "name": "NumberOfVehiclesInFleet",
         "rawType": "float64",
         "type": "float"
        },
        {
         "name": "SumInsured",
         "rawType": "float64",
         "type": "float"
        },
        {
         "name": "TermFrequency",
         "rawType": "object",
         "type": "string"
        },
        {
         "name": "CalculatedPremiumPerTerm",
         "rawType": "float64",
         "type": "float"
        },
        {
         "name": "ExcessSelected",
         "rawType": "object",
         "type": "string"
        },
        {
         "name": "CoverCategory",
         "rawType": "object",
         "type": "string"
        },
        {
         "name": "CoverType",
         "rawType": "object",
         "type": "string"
        },
        {
         "name": "CoverGroup",
         "rawType": "object",
         "type": "string"
        },
        {
         "name": "Section",
         "rawType": "object",
         "type": "string"
        },
        {
         "name": "Product",
         "rawType": "object",
         "type": "string"
        },
        {
         "name": "StatutoryClass",
         "rawType": "object",
         "type": "string"
        },
        {
         "name": "StatutoryRiskType",
         "rawType": "object",
         "type": "string"
        },
        {
         "name": "TotalPremium",
         "rawType": "float64",
         "type": "float"
        },
        {
         "name": "TotalClaims",
         "rawType": "float64",
         "type": "float"
        }
       ],
       "ref": "db609a0b-8523-4808-a5cd-dbea7fd2e82b",
       "rows": [
        [
         "0",
         "145249",
         "12827",
         "2015-03-01 00:00:00",
         "True",
         "  ",
         "Close Corporation",
         "Mr",
         "English",
         "First National Bank",
         "Current account",
         "Not specified",
         "Not specified",
         "South Africa",
         "Gauteng",
         "1459",
         "Rand East",
         "Rand East",
         "Mobility - Motor",
         "44069150.0",
         "Passenger Vehicle",
         "2004",
         "MERCEDES-BENZ",
         "E 240",
         "6.0",
         "2597.0",
         "130.0",
         "S/D",
         "4.0",
         "6/2002",
         "119300.0",
         "Yes",
         "No",
         "119300",
         "More than 6 months",
         null,
         null,
         null,
         null,
         null,
         "0.01",
         "Monthly",
         "25.0",
         "Mobility - Windscreen",
         "Windscreen",
         "Windscreen",
         "Comprehensive - Taxi",
         "Motor Comprehensive",
         "Mobility Metered Taxis: Monthly",
         "Commercial",
         "IFRS Constant",
         "21.929824561403",
         "0.0"
        ],
        [
         "1",
         "145249",
         "12827",
         "2015-05-01 00:00:00",
         "True",
         "  ",
         "Close Corporation",
         "Mr",
         "English",
         "First National Bank",
         "Current account",
         "Not specified",
         "Not specified",
         "South Africa",
         "Gauteng",
         "1459",
         "Rand East",
         "Rand East",
         "Mobility - Motor",
         "44069150.0",
         "Passenger Vehicle",
         "2004",
         "MERCEDES-BENZ",
         "E 240",
         "6.0",
         "2597.0",
         "130.0",
         "S/D",
         "4.0",
         "6/2002",
         "119300.0",
         "Yes",
         "No",
         "119300",
         "More than 6 months",
         null,
         null,
         null,
         null,
         null,
         "0.01",
         "Monthly",
         "25.0",
         "Mobility - Windscreen",
         "Windscreen",
         "Windscreen",
         "Comprehensive - Taxi",
         "Motor Comprehensive",
         "Mobility Metered Taxis: Monthly",
         "Commercial",
         "IFRS Constant",
         "21.929824561403",
         "0.0"
        ],
        [
         "2",
         "145249",
         "12827",
         "2015-07-01 00:00:00",
         "True",
         "  ",
         "Close Corporation",
         "Mr",
         "English",
         "First National Bank",
         "Current account",
         "Not specified",
         "Not specified",
         "South Africa",
         "Gauteng",
         "1459",
         "Rand East",
         "Rand East",
         "Mobility - Motor",
         "44069150.0",
         "Passenger Vehicle",
         "2004",
         "MERCEDES-BENZ",
         "E 240",
         "6.0",
         "2597.0",
         "130.0",
         "S/D",
         "4.0",
         "6/2002",
         "119300.0",
         "Yes",
         "No",
         "119300",
         "More than 6 months",
         null,
         null,
         null,
         null,
         null,
         "0.01",
         "Monthly",
         "25.0",
         "Mobility - Windscreen",
         "Windscreen",
         "Windscreen",
         "Comprehensive - Taxi",
         "Motor Comprehensive",
         "Mobility Metered Taxis: Monthly",
         "Commercial",
         "IFRS Constant",
         "0.0",
         "0.0"
        ],
        [
         "3",
         "145255",
         "12827",
         "2015-05-01 00:00:00",
         "True",
         "  ",
         "Close Corporation",
         "Mr",
         "English",
         "First National Bank",
         "Current account",
         "Not specified",
         "Not specified",
         "South Africa",
         "Gauteng",
         "1459",
         "Rand East",
         "Rand East",
         "Mobility - Motor",
         "44069150.0",
         "Passenger Vehicle",
         "2004",
         "MERCEDES-BENZ",
         "E 240",
         "6.0",
         "2597.0",
         "130.0",
         "S/D",
         "4.0",
         "6/2002",
         "119300.0",
         "Yes",
         "No",
         "119300",
         "More than 6 months",
         null,
         null,
         null,
         null,
         null,
         "119300.0",
         "Monthly",
         "584.6468",
         "Mobility - Metered Taxis - R2000",
         "Own damage",
         "Own Damage",
         "Comprehensive - Taxi",
         "Motor Comprehensive",
         "Mobility Metered Taxis: Monthly",
         "Commercial",
         "IFRS Constant",
         "512.848070175439",
         "0.0"
        ],
        [
         "4",
         "145255",
         "12827",
         "2015-07-01 00:00:00",
         "True",
         "  ",
         "Close Corporation",
         "Mr",
         "English",
         "First National Bank",
         "Current account",
         "Not specified",
         "Not specified",
         "South Africa",
         "Gauteng",
         "1459",
         "Rand East",
         "Rand East",
         "Mobility - Motor",
         "44069150.0",
         "Passenger Vehicle",
         "2004",
         "MERCEDES-BENZ",
         "E 240",
         "6.0",
         "2597.0",
         "130.0",
         "S/D",
         "4.0",
         "6/2002",
         "119300.0",
         "Yes",
         "No",
         "119300",
         "More than 6 months",
         null,
         null,
         null,
         null,
         null,
         "119300.0",
         "Monthly",
         "584.6468",
         "Mobility - Metered Taxis - R2000",
         "Own damage",
         "Own Damage",
         "Comprehensive - Taxi",
         "Motor Comprehensive",
         "Mobility Metered Taxis: Monthly",
         "Commercial",
         "IFRS Constant",
         "0.0",
         "0.0"
        ]
       ],
       "shape": {
        "columns": 52,
        "rows": 5
       }
      },
      "text/html": [
       "<div>\n",
       "<style scoped>\n",
       "    .dataframe tbody tr th:only-of-type {\n",
       "        vertical-align: middle;\n",
       "    }\n",
       "\n",
       "    .dataframe tbody tr th {\n",
       "        vertical-align: top;\n",
       "    }\n",
       "\n",
       "    .dataframe thead th {\n",
       "        text-align: right;\n",
       "    }\n",
       "</style>\n",
       "<table border=\"1\" class=\"dataframe\">\n",
       "  <thead>\n",
       "    <tr style=\"text-align: right;\">\n",
       "      <th></th>\n",
       "      <th>UnderwrittenCoverID</th>\n",
       "      <th>PolicyID</th>\n",
       "      <th>TransactionMonth</th>\n",
       "      <th>IsVATRegistered</th>\n",
       "      <th>Citizenship</th>\n",
       "      <th>LegalType</th>\n",
       "      <th>Title</th>\n",
       "      <th>Language</th>\n",
       "      <th>Bank</th>\n",
       "      <th>AccountType</th>\n",
       "      <th>...</th>\n",
       "      <th>ExcessSelected</th>\n",
       "      <th>CoverCategory</th>\n",
       "      <th>CoverType</th>\n",
       "      <th>CoverGroup</th>\n",
       "      <th>Section</th>\n",
       "      <th>Product</th>\n",
       "      <th>StatutoryClass</th>\n",
       "      <th>StatutoryRiskType</th>\n",
       "      <th>TotalPremium</th>\n",
       "      <th>TotalClaims</th>\n",
       "    </tr>\n",
       "  </thead>\n",
       "  <tbody>\n",
       "    <tr>\n",
       "      <th>0</th>\n",
       "      <td>145249</td>\n",
       "      <td>12827</td>\n",
       "      <td>2015-03-01</td>\n",
       "      <td>True</td>\n",
       "      <td></td>\n",
       "      <td>Close Corporation</td>\n",
       "      <td>Mr</td>\n",
       "      <td>English</td>\n",
       "      <td>First National Bank</td>\n",
       "      <td>Current account</td>\n",
       "      <td>...</td>\n",
       "      <td>Mobility - Windscreen</td>\n",
       "      <td>Windscreen</td>\n",
       "      <td>Windscreen</td>\n",
       "      <td>Comprehensive - Taxi</td>\n",
       "      <td>Motor Comprehensive</td>\n",
       "      <td>Mobility Metered Taxis: Monthly</td>\n",
       "      <td>Commercial</td>\n",
       "      <td>IFRS Constant</td>\n",
       "      <td>21.929825</td>\n",
       "      <td>0.0</td>\n",
       "    </tr>\n",
       "    <tr>\n",
       "      <th>1</th>\n",
       "      <td>145249</td>\n",
       "      <td>12827</td>\n",
       "      <td>2015-05-01</td>\n",
       "      <td>True</td>\n",
       "      <td></td>\n",
       "      <td>Close Corporation</td>\n",
       "      <td>Mr</td>\n",
       "      <td>English</td>\n",
       "      <td>First National Bank</td>\n",
       "      <td>Current account</td>\n",
       "      <td>...</td>\n",
       "      <td>Mobility - Windscreen</td>\n",
       "      <td>Windscreen</td>\n",
       "      <td>Windscreen</td>\n",
       "      <td>Comprehensive - Taxi</td>\n",
       "      <td>Motor Comprehensive</td>\n",
       "      <td>Mobility Metered Taxis: Monthly</td>\n",
       "      <td>Commercial</td>\n",
       "      <td>IFRS Constant</td>\n",
       "      <td>21.929825</td>\n",
       "      <td>0.0</td>\n",
       "    </tr>\n",
       "    <tr>\n",
       "      <th>2</th>\n",
       "      <td>145249</td>\n",
       "      <td>12827</td>\n",
       "      <td>2015-07-01</td>\n",
       "      <td>True</td>\n",
       "      <td></td>\n",
       "      <td>Close Corporation</td>\n",
       "      <td>Mr</td>\n",
       "      <td>English</td>\n",
       "      <td>First National Bank</td>\n",
       "      <td>Current account</td>\n",
       "      <td>...</td>\n",
       "      <td>Mobility - Windscreen</td>\n",
       "      <td>Windscreen</td>\n",
       "      <td>Windscreen</td>\n",
       "      <td>Comprehensive - Taxi</td>\n",
       "      <td>Motor Comprehensive</td>\n",
       "      <td>Mobility Metered Taxis: Monthly</td>\n",
       "      <td>Commercial</td>\n",
       "      <td>IFRS Constant</td>\n",
       "      <td>0.000000</td>\n",
       "      <td>0.0</td>\n",
       "    </tr>\n",
       "    <tr>\n",
       "      <th>3</th>\n",
       "      <td>145255</td>\n",
       "      <td>12827</td>\n",
       "      <td>2015-05-01</td>\n",
       "      <td>True</td>\n",
       "      <td></td>\n",
       "      <td>Close Corporation</td>\n",
       "      <td>Mr</td>\n",
       "      <td>English</td>\n",
       "      <td>First National Bank</td>\n",
       "      <td>Current account</td>\n",
       "      <td>...</td>\n",
       "      <td>Mobility - Metered Taxis - R2000</td>\n",
       "      <td>Own damage</td>\n",
       "      <td>Own Damage</td>\n",
       "      <td>Comprehensive - Taxi</td>\n",
       "      <td>Motor Comprehensive</td>\n",
       "      <td>Mobility Metered Taxis: Monthly</td>\n",
       "      <td>Commercial</td>\n",
       "      <td>IFRS Constant</td>\n",
       "      <td>512.848070</td>\n",
       "      <td>0.0</td>\n",
       "    </tr>\n",
       "    <tr>\n",
       "      <th>4</th>\n",
       "      <td>145255</td>\n",
       "      <td>12827</td>\n",
       "      <td>2015-07-01</td>\n",
       "      <td>True</td>\n",
       "      <td></td>\n",
       "      <td>Close Corporation</td>\n",
       "      <td>Mr</td>\n",
       "      <td>English</td>\n",
       "      <td>First National Bank</td>\n",
       "      <td>Current account</td>\n",
       "      <td>...</td>\n",
       "      <td>Mobility - Metered Taxis - R2000</td>\n",
       "      <td>Own damage</td>\n",
       "      <td>Own Damage</td>\n",
       "      <td>Comprehensive - Taxi</td>\n",
       "      <td>Motor Comprehensive</td>\n",
       "      <td>Mobility Metered Taxis: Monthly</td>\n",
       "      <td>Commercial</td>\n",
       "      <td>IFRS Constant</td>\n",
       "      <td>0.000000</td>\n",
       "      <td>0.0</td>\n",
       "    </tr>\n",
       "  </tbody>\n",
       "</table>\n",
       "<p>5 rows × 52 columns</p>\n",
       "</div>"
      ],
      "text/plain": [
       "   UnderwrittenCoverID  PolicyID TransactionMonth  IsVATRegistered  \\\n",
       "0               145249     12827       2015-03-01             True   \n",
       "1               145249     12827       2015-05-01             True   \n",
       "2               145249     12827       2015-07-01             True   \n",
       "3               145255     12827       2015-05-01             True   \n",
       "4               145255     12827       2015-07-01             True   \n",
       "\n",
       "  Citizenship          LegalType Title Language                 Bank  \\\n",
       "0              Close Corporation    Mr  English  First National Bank   \n",
       "1              Close Corporation    Mr  English  First National Bank   \n",
       "2              Close Corporation    Mr  English  First National Bank   \n",
       "3              Close Corporation    Mr  English  First National Bank   \n",
       "4              Close Corporation    Mr  English  First National Bank   \n",
       "\n",
       "       AccountType  ...                    ExcessSelected CoverCategory  \\\n",
       "0  Current account  ...             Mobility - Windscreen    Windscreen   \n",
       "1  Current account  ...             Mobility - Windscreen    Windscreen   \n",
       "2  Current account  ...             Mobility - Windscreen    Windscreen   \n",
       "3  Current account  ...  Mobility - Metered Taxis - R2000    Own damage   \n",
       "4  Current account  ...  Mobility - Metered Taxis - R2000    Own damage   \n",
       "\n",
       "    CoverType            CoverGroup              Section  \\\n",
       "0  Windscreen  Comprehensive - Taxi  Motor Comprehensive   \n",
       "1  Windscreen  Comprehensive - Taxi  Motor Comprehensive   \n",
       "2  Windscreen  Comprehensive - Taxi  Motor Comprehensive   \n",
       "3  Own Damage  Comprehensive - Taxi  Motor Comprehensive   \n",
       "4  Own Damage  Comprehensive - Taxi  Motor Comprehensive   \n",
       "\n",
       "                           Product StatutoryClass StatutoryRiskType  \\\n",
       "0  Mobility Metered Taxis: Monthly     Commercial     IFRS Constant   \n",
       "1  Mobility Metered Taxis: Monthly     Commercial     IFRS Constant   \n",
       "2  Mobility Metered Taxis: Monthly     Commercial     IFRS Constant   \n",
       "3  Mobility Metered Taxis: Monthly     Commercial     IFRS Constant   \n",
       "4  Mobility Metered Taxis: Monthly     Commercial     IFRS Constant   \n",
       "\n",
       "   TotalPremium TotalClaims  \n",
       "0     21.929825         0.0  \n",
       "1     21.929825         0.0  \n",
       "2      0.000000         0.0  \n",
       "3    512.848070         0.0  \n",
       "4      0.000000         0.0  \n",
       "\n",
       "[5 rows x 52 columns]"
      ]
     },
     "execution_count": 4,
     "metadata": {},
     "output_type": "execute_result"
    }
   ],
   "source": [
    "raw_data_dir = '../data'\n",
    "loader = DataLoader(raw_data_dir)\n",
    "# Load the dataset\n",
    "df = loader.load_data('MachineLearningRating_v3.txt')\n",
    "# Display the first few rows of the dataset\n",
    "df.head()"
   ]
  },
  {
   "cell_type": "markdown",
   "id": "6562d99c",
   "metadata": {},
   "source": [
    "### Data Cleaning and Handling Missing Values"
   ]
  },
  {
   "cell_type": "code",
   "execution_count": 6,
   "id": "08036c2b",
   "metadata": {},
   "outputs": [],
   "source": [
    "# Loading modules  to perform preprocessing\n",
    "from src.analysis.preprocessing import Preprocessing\n",
    "import src.analysis.preprocessing\n",
    "reload(src.analysis.preprocessing)\n",
    "preprocessing = Preprocessing(df)"
   ]
  },
  {
   "cell_type": "code",
   "execution_count": 7,
   "id": "149c70e5",
   "metadata": {},
   "outputs": [
    {
     "name": "stdout",
     "output_type": "stream",
     "text": [
      "Dropping columns with > 5.0% missing values:\n",
      "['Bank', 'CustomValueEstimate', 'NewVehicle', 'WrittenOff', 'Rebuilt', 'Converted', 'CrossBorder', 'NumberOfVehiclesInFleet']\n",
      "\n"
     ]
    },
    {
     "name": "stderr",
     "output_type": "stream",
     "text": [
      "D:\\Research & Project\\10academy\\week 3\\challenge\\insurisk-analytics-and-predictive-modeling\\src\\analysis\\preprocessing.py:9: FutureWarning: A value is trying to be set on a copy of a DataFrame or Series through chained assignment using an inplace method.\n",
      "The behavior will change in pandas 3.0. This inplace method will never work because the intermediate object on which we are setting values always behaves as a copy.\n",
      "\n",
      "For example, when doing 'df[col].method(value, inplace=True)', try using 'df.method({col: value}, inplace=True)' or df[col] = df[col].method(value) instead, to perform the operation inplace on the original object.\n",
      "\n",
      "\n",
      "  self.df[column].fillna(self.df[column].mean(), inplace=True)\n",
      "D:\\Research & Project\\10academy\\week 3\\challenge\\insurisk-analytics-and-predictive-modeling\\src\\analysis\\preprocessing.py:11: FutureWarning: A value is trying to be set on a copy of a DataFrame or Series through chained assignment using an inplace method.\n",
      "The behavior will change in pandas 3.0. This inplace method will never work because the intermediate object on which we are setting values always behaves as a copy.\n",
      "\n",
      "For example, when doing 'df[col].method(value, inplace=True)', try using 'df.method({col: value}, inplace=True)' or df[col] = df[col].method(value) instead, to perform the operation inplace on the original object.\n",
      "\n",
      "\n",
      "  self.df[column].fillna(self.df[column].mode()[0], inplace=True)\n"
     ]
    }
   ],
   "source": [
    "# drop the columns with more than 5% missing values\n",
    "clean_df = preprocessing.preprocess()"
   ]
  },
  {
   "cell_type": "code",
   "execution_count": 8,
   "id": "869c643f",
   "metadata": {},
   "outputs": [],
   "source": [
    "# Calculate profit margin if not already present\n",
    "if 'Margin' not in df.columns:\n",
    "    clean_df['Margin'] = clean_df['TotalPremium'] - clean_df['TotalClaims']"
   ]
  },
  {
   "cell_type": "code",
   "execution_count": 9,
   "id": "085021ae",
   "metadata": {},
   "outputs": [
    {
     "data": {
      "application/vnd.microsoft.datawrangler.viewer.v0+json": {
       "columns": [
        {
         "name": "index",
         "rawType": "object",
         "type": "string"
        },
        {
         "name": "Margin",
         "rawType": "float64",
         "type": "float"
        }
       ],
       "ref": "8d5a5252-9414-4d6b-b665-bb69b961fd5b",
       "rows": [
        [
         "count",
         "817156.0"
        ],
        [
         "mean",
         "30.976067224985812"
        ],
        [
         "std",
         "81.9212696098225"
        ],
        [
         "min",
         "-2684.21052631579"
        ],
        [
         "25%",
         "0.0"
        ],
        [
         "50%",
         "2.101929824561"
        ],
        [
         "75%",
         "21.929824561403"
        ],
        [
         "max",
         "635.48"
        ]
       ],
       "shape": {
        "columns": 1,
        "rows": 8
       }
      },
      "text/plain": [
       "count    817156.000000\n",
       "mean         30.976067\n",
       "std          81.921270\n",
       "min       -2684.210526\n",
       "25%           0.000000\n",
       "50%           2.101930\n",
       "75%          21.929825\n",
       "max         635.480000\n",
       "Name: Margin, dtype: float64"
      ]
     },
     "execution_count": 9,
     "metadata": {},
     "output_type": "execute_result"
    }
   ],
   "source": [
    "clean_df['Margin'].describe()"
   ]
  },
  {
   "cell_type": "code",
   "execution_count": 10,
   "id": "3c7dcc9d",
   "metadata": {},
   "outputs": [],
   "source": [
    "# Define KPIs\n",
    "kpi_claims = 'TotalClaims'\n",
    "kpi_margin = 'ProfitMargin'"
   ]
  },
  {
   "cell_type": "markdown",
   "id": "b3998e78",
   "metadata": {},
   "source": [
    "### Accept or reject the following Null Hypotheses:"
   ]
  },
  {
   "cell_type": "code",
   "execution_count": 58,
   "id": "9714417e",
   "metadata": {},
   "outputs": [
    {
     "data": {
      "text/plain": [
       "<module 'src.hypotheses_testing' from 'D:\\\\Research & Project\\\\10academy\\\\week 3\\\\challenge\\\\insurisk-analytics-and-predictive-modeling\\\\src\\\\hypotheses_testing.py'>"
      ]
     },
     "execution_count": 58,
     "metadata": {},
     "output_type": "execute_result"
    }
   ],
   "source": [
    "# import the modules\n",
    "from src.hypotheses_testing import HypothesisTesting\n",
    "import src.hypotheses_testing\n",
    "reload(src.hypotheses_testing)\n"
   ]
  },
  {
   "cell_type": "code",
   "execution_count": 59,
   "id": "9cb86d76",
   "metadata": {},
   "outputs": [],
   "source": [
    "# instantiate the HypothesisTesting class\n",
    "hypothesis_tester = HypothesisTesting(clean_df)"
   ]
  },
  {
   "cell_type": "markdown",
   "id": "cce30ec7",
   "metadata": {},
   "source": [
    "1. **H0**: There are no risk differences across provinces."
   ]
  },
  {
   "cell_type": "code",
   "execution_count": 60,
   "id": "d057a83c",
   "metadata": {},
   "outputs": [
    {
     "name": "stdout",
     "output_type": "stream",
     "text": [
      "--- Running Hypothesis Tests ---\n",
      "\n",
      "--- Hypothesis: No risk differences across Provinces ---\n",
      "Loss Ratio (Kruskal-Wallis): Stat=65.5597, P=0.0000\n",
      "  --> Reject H₀ for Loss Ratio. Significant differences exist across provinces (p=0.0000).\n",
      "  --> (Further post-hoc analysis needed to identify specific differing provinces).\n",
      "Claim Frequency (Chi-squared): Stat=67.7716, P=0.0000\n",
      "  --> Reject H₀ for Claim Frequency. Claim frequency is dependent on province (p=0.0000).\n"
     ]
    },
    {
     "data": {
      "text/plain": [
       "{'LossRatio_Kruskal': {'statistic': np.float64(65.55969101078352),\n",
       "  'p_value': np.float64(3.740059252035797e-11)},\n",
       " 'ClaimFrequency_Chi2': {'statistic': np.float64(67.77157643516094),\n",
       "  'p_value': np.float64(1.3629288217970929e-11)}}"
      ]
     },
     "execution_count": 60,
     "metadata": {},
     "output_type": "execute_result"
    }
   ],
   "source": [
    "print(\"--- Running Hypothesis Tests ---\")\n",
    "# Run hypothesis tests\n",
    "hypothesis_tester.test_province_risk()"
   ]
  },
  {
   "cell_type": "markdown",
   "id": "39bf4edb",
   "metadata": {},
   "source": [
    "2. **H1**: There are no risk differences between zip codes."
   ]
  },
  {
   "cell_type": "code",
   "execution_count": 61,
   "id": "7284e506",
   "metadata": {},
   "outputs": [
    {
     "name": "stdout",
     "output_type": "stream",
     "text": [
      "\n",
      "--- Hypothesis: No risk differences across Zip Codes ---\n",
      "Loss Ratio (Kruskal-Wallis): Stat=932.8659, P=0.0001\n",
      "  --> Reject H₀ for Loss Ratio. Significant differences exist across zip codes (p=0.0001).\n",
      "  --> (Further post-hoc analysis needed to identify specific differing zip codes).\n",
      "Claim Frequency (Chi-squared): Stat=1171.6264, P=0.0000\n",
      "  --> Reject H₀ for Claim Frequency. Claim frequency is dependent on zip code (p=0.0000).\n"
     ]
    },
    {
     "data": {
      "text/plain": [
       "{'LossRatio_Kruskal': {'statistic': np.float64(932.8658889722387),\n",
       "  'p_value': np.float64(0.00011472666205091963)},\n",
       " 'ClaimFrequency_Chi2': {'statistic': np.float64(1171.6263842462238),\n",
       "  'p_value': np.float64(6.97724075135732e-14)}}"
      ]
     },
     "execution_count": 61,
     "metadata": {},
     "output_type": "execute_result"
    }
   ],
   "source": [
    "# Hypothesis 2: Risk Differences Between Zip Codes\n",
    "hypothesis_tester.test_zipcode_risk()"
   ]
  }
 ],
 "metadata": {
  "kernelspec": {
   "display_name": ".venv",
   "language": "python",
   "name": "python3"
  },
  "language_info": {
   "codemirror_mode": {
    "name": "ipython",
    "version": 3
   },
   "file_extension": ".py",
   "mimetype": "text/x-python",
   "name": "python",
   "nbconvert_exporter": "python",
   "pygments_lexer": "ipython3",
   "version": "3.13.3"
  }
 },
 "nbformat": 4,
 "nbformat_minor": 5
}
